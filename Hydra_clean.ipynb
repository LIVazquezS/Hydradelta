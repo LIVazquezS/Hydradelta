{
 "cells": [
  {
   "cell_type": "markdown",
   "id": "c8e6102d-9c01-4df6-ab70-f4e9dc7a13f0",
   "metadata": {},
   "source": [
    "## Code for performing evaluation of $\\Delta-$learning for the Hydra Challenge"
   ]
  },
  {
   "cell_type": "markdown",
   "id": "1bdf05e4-8b23-4842-9fd6-1c13397cf627",
   "metadata": {},
   "source": [
    "First, Import usual packages. \\\n",
    "*Note*: To use the new FCHL19 represenation you need an extra step of configuration of the QML package. Please look at the documentation for details"
   ]
  },
  {
   "cell_type": "code",
   "execution_count": 1,
   "id": "b66f367f-da3c-4dca-ab84-6ef60d3d9c84",
   "metadata": {},
   "outputs": [],
   "source": [
    "import qml\n",
    "import numpy as np\n",
    "import pandas as pd\n",
    "import os\n"
   ]
  },
  {
   "cell_type": "code",
   "execution_count": 2,
   "id": "f759867a-79b1-47a4-8856-c6dcfa2b8b9d",
   "metadata": {},
   "outputs": [],
   "source": [
    "def get_frequencies(file):\n",
    "    with open(file,\"r\") as f:\n",
    "        contents = f.read().splitlines()\n",
    "        freq, smiles = contents[1].split()\n",
    "    return float(freq)\n"
   ]
  },
  {
   "cell_type": "code",
   "execution_count": 3,
   "id": "de8a7e2d-7e2e-4f9d-a8eb-29ac221f7670",
   "metadata": {},
   "outputs": [],
   "source": [
    "def normalize_freq(freq):\n",
    "    mean = np.mean(np.array(freq))\n",
    "    std = np.std(np.array(freq))\n",
    "    norm_freq = []\n",
    "    for i in freq:\n",
    "        new_freq = (i-mean)/std\n",
    "        norm_freq.append(new_freq)\n",
    "    return norm_freq, mean,std"
   ]
  },
  {
   "cell_type": "markdown",
   "id": "3c3017a4-3901-41f1-b15d-395c5033e51b",
   "metadata": {},
   "source": [
    "Here, It reads the data to train the initial kernel"
   ]
  },
  {
   "cell_type": "code",
   "execution_count": 4,
   "id": "177fff79-dfbc-41cf-93b1-0d7aa4320d47",
   "metadata": {},
   "outputs": [],
   "source": [
    "data_train = '/home/vazquez/Documents/Hydra/e_structures_final/train_no_test'\n",
    "file_name_train = []\n",
    "frequencies_train = []\n",
    "freq_dict = {}\n",
    "for path, dirs, files in os.walk(data_train):\n",
    "    for file in files:\n",
    "        if file.endswith(\".xyz\"):            \n",
    "            file_path = path + \"/\" + file\n",
    "            freq_dict[file] = get_frequencies(file_path)\n",
    "            frequencies_train.append(get_frequencies(file_path))\n",
    "            file_name_train.append(file)\n",
    "        \n",
    "dct = {'file':file_name_train, 'frequencies':frequencies_train}\n",
    "df = pd.DataFrame(dct)"
   ]
  },
  {
   "cell_type": "code",
   "execution_count": 5,
   "id": "07b36a57-64fb-459b-baad-27dc683ff618",
   "metadata": {},
   "outputs": [
    {
     "data": {
      "text/html": [
       "<div>\n",
       "<style scoped>\n",
       "    .dataframe tbody tr th:only-of-type {\n",
       "        vertical-align: middle;\n",
       "    }\n",
       "\n",
       "    .dataframe tbody tr th {\n",
       "        vertical-align: top;\n",
       "    }\n",
       "\n",
       "    .dataframe thead th {\n",
       "        text-align: right;\n",
       "    }\n",
       "</style>\n",
       "<table border=\"1\" class=\"dataframe\">\n",
       "  <thead>\n",
       "    <tr style=\"text-align: right;\">\n",
       "      <th></th>\n",
       "      <th>file</th>\n",
       "      <th>frequencies</th>\n",
       "    </tr>\n",
       "  </thead>\n",
       "  <tbody>\n",
       "    <tr>\n",
       "      <th>0</th>\n",
       "      <td>gens_288_gen9.xyz.out.xyz</td>\n",
       "      <td>3631.0391</td>\n",
       "    </tr>\n",
       "    <tr>\n",
       "      <th>1</th>\n",
       "      <td>gens_502_gen19.xyz.out.xyz</td>\n",
       "      <td>3602.7447</td>\n",
       "    </tr>\n",
       "    <tr>\n",
       "      <th>2</th>\n",
       "      <td>gens_75_gen19.xyz.out.xyz</td>\n",
       "      <td>3776.5611</td>\n",
       "    </tr>\n",
       "    <tr>\n",
       "      <th>3</th>\n",
       "      <td>gens_98-85_gen8.xyz.out.xyz</td>\n",
       "      <td>3764.4916</td>\n",
       "    </tr>\n",
       "    <tr>\n",
       "      <th>4</th>\n",
       "      <td>gens_434_gen3.xyz.out.xyz</td>\n",
       "      <td>3605.6133</td>\n",
       "    </tr>\n",
       "    <tr>\n",
       "      <th>...</th>\n",
       "      <td>...</td>\n",
       "      <td>...</td>\n",
       "    </tr>\n",
       "    <tr>\n",
       "      <th>208</th>\n",
       "      <td>gens_62_gen6.xyz.out.xyz</td>\n",
       "      <td>3554.0158</td>\n",
       "    </tr>\n",
       "    <tr>\n",
       "      <th>209</th>\n",
       "      <td>gens_434_gen2.xyz.out.xyz</td>\n",
       "      <td>3646.0809</td>\n",
       "    </tr>\n",
       "    <tr>\n",
       "      <th>210</th>\n",
       "      <td>gens_125132_gen6.xyz.out.xyz</td>\n",
       "      <td>3602.1282</td>\n",
       "    </tr>\n",
       "    <tr>\n",
       "      <th>211</th>\n",
       "      <td>gens_75_gen16.xyz.out.xyz</td>\n",
       "      <td>3725.5927</td>\n",
       "    </tr>\n",
       "    <tr>\n",
       "      <th>212</th>\n",
       "      <td>gens_288_gen14.xyz.out.xyz</td>\n",
       "      <td>3601.6631</td>\n",
       "    </tr>\n",
       "  </tbody>\n",
       "</table>\n",
       "<p>213 rows × 2 columns</p>\n",
       "</div>"
      ],
      "text/plain": [
       "                             file  frequencies\n",
       "0       gens_288_gen9.xyz.out.xyz    3631.0391\n",
       "1      gens_502_gen19.xyz.out.xyz    3602.7447\n",
       "2       gens_75_gen19.xyz.out.xyz    3776.5611\n",
       "3     gens_98-85_gen8.xyz.out.xyz    3764.4916\n",
       "4       gens_434_gen3.xyz.out.xyz    3605.6133\n",
       "..                            ...          ...\n",
       "208      gens_62_gen6.xyz.out.xyz    3554.0158\n",
       "209     gens_434_gen2.xyz.out.xyz    3646.0809\n",
       "210  gens_125132_gen6.xyz.out.xyz    3602.1282\n",
       "211     gens_75_gen16.xyz.out.xyz    3725.5927\n",
       "212    gens_288_gen14.xyz.out.xyz    3601.6631\n",
       "\n",
       "[213 rows x 2 columns]"
      ]
     },
     "execution_count": 5,
     "metadata": {},
     "output_type": "execute_result"
    }
   ],
   "source": [
    "df"
   ]
  },
  {
   "cell_type": "markdown",
   "id": "34110157-ccd1-4acb-aaca-d40e3401e6b6",
   "metadata": {},
   "source": [
    "This dictionary contains the experimental frequencies"
   ]
  },
  {
   "cell_type": "code",
   "execution_count": 6,
   "id": "8729fab8-3fb8-45cd-be72-6ea48ef66b26",
   "metadata": {},
   "outputs": [],
   "source": [
    "dct_f_exp = {'67-64-1.out.xyz':3538,'98-86-2.out.xyz':3536,'62-53-3.out.xyz':3524,'1191-95-3.out.xyz':3548,'132-64-9.out.xyz':3623,'2406-25-9.out.xyz':3484,\n",
    "           '288-32-4.out.xyz':3458,'611-20-1.out.xyz':3595,'98-85-1.out.xyz':3620,'327-54-8.out.xyz':3647}    "
   ]
  },
  {
   "cell_type": "markdown",
   "id": "fdbc67eb-8547-47b7-912d-0f69a5ca1df1",
   "metadata": {},
   "source": [
    "Frequencies are normalized and the value of the mean and the standard deviation is printed\n"
   ]
  },
  {
   "cell_type": "code",
   "execution_count": 7,
   "id": "eb664278-f73a-45f3-918b-c40fbadee7b5",
   "metadata": {},
   "outputs": [
    {
     "name": "stdout",
     "output_type": "stream",
     "text": [
      "3633.5051751173705\n",
      "76.41647271169035\n"
     ]
    }
   ],
   "source": [
    "new_freq = normalize_freq(df['frequencies'])\n",
    "for i in range(len(df['file'])):\n",
    "    freq_dict[df['file'][i]]=new_freq[0][i]\n",
    "\n",
    "print(new_freq[1])\n",
    "print(new_freq[2])"
   ]
  },
  {
   "cell_type": "markdown",
   "id": "caf8da4e-225a-43c8-bfb5-8198f78e4a1d",
   "metadata": {},
   "source": [
    "Load modules for FCHL19"
   ]
  },
  {
   "cell_type": "code",
   "execution_count": 8,
   "id": "bf41baa7-741c-4f0f-bfc9-3a75d3f321a4",
   "metadata": {},
   "outputs": [],
   "source": [
    "from qml.math import cho_solve\n",
    "\n",
    "from qml.representations import generate_fchl_acsf\n",
    "\n",
    "from qml.kernels import get_local_kernel\n",
    "from qml.kernels import get_local_symmetric_kernel"
   ]
  },
  {
   "cell_type": "markdown",
   "id": "0a077546-8370-479a-bf34-6dacd04bee1b",
   "metadata": {},
   "source": [
    "Here the representation for the molecules in training set is generated. It also appends as property the normalized frequency. "
   ]
  },
  {
   "cell_type": "code",
   "execution_count": 9,
   "id": "f557414b-f7b7-4116-81e9-416c57b39872",
   "metadata": {},
   "outputs": [],
   "source": [
    "mols = []\n",
    "Qall = []\n",
    "for xyz_file in df['file']:\n",
    "    mol = qml.Compound(xyz=data_train+'/'+xyz_file)\n",
    "    mol.properties = freq_dict[xyz_file]\n",
    "    mol.representation = generate_fchl_acsf(mol.nuclear_charges, mol.coordinates, elements = [1,6,7,8,9,16],\n",
    "        nRs2=22, nRs3=17, nFourier=1, eta2=0.41, eta3=0.97, zeta=np.pi, rcut=8.0, acut=8.0,\n",
    "        two_body_decay=2.4, three_body_decay=2.4, three_body_weight=45.8, gradients=False,pad=33)\n",
    "    Qall.append(mol.nuclear_charges)\n",
    "    mols.append(mol)"
   ]
  },
  {
   "cell_type": "markdown",
   "id": "d66a6d64-2232-4a14-a159-b03e9e7a4636",
   "metadata": {},
   "source": [
    "Arrays for the kernel. It is one for the representation, one for nuclear charges and one for the properties.\n"
   ]
  },
  {
   "cell_type": "code",
   "execution_count": 10,
   "id": "677105c9-1537-4514-b92a-edc2f6f053c0",
   "metadata": {},
   "outputs": [
    {
     "name": "stderr",
     "output_type": "stream",
     "text": [
      "/opt/intel/oneapi/intelpython/latest/lib/python3.7/site-packages/ipykernel_launcher.py:2: VisibleDeprecationWarning: Creating an ndarray from ragged nested sequences (which is a list-or-tuple of lists-or-tuples-or ndarrays with different lengths or shapes) is deprecated. If you meant to do this, you must specify 'dtype=object' when creating the ndarray.\n",
      "  \n"
     ]
    }
   ],
   "source": [
    "X  = np.array([mol.representation for mol in mols])\n",
    "Q  = np.array([mol.nuclear_charges for mol in mols])\n",
    "Y = np.array([mol.properties for mol in mols])"
   ]
  },
  {
   "cell_type": "markdown",
   "id": "7c2725f2-50fc-4697-bae1-786223318163",
   "metadata": {},
   "source": [
    "Basic hyperparameters of the kernel. This might be optimized. Thne the local symmetric kernel is obtained and the matrix of coefficients is obtained by Cholesky decomposition"
   ]
  },
  {
   "cell_type": "code",
   "execution_count": 11,
   "id": "4aebd10c-1634-45ab-8aa9-4215ebf042cc",
   "metadata": {},
   "outputs": [],
   "source": [
    "sigma = 1.2\n",
    "llambda = 1e-10\n",
    "\n",
    "K = get_local_symmetric_kernel(X, Q, sigma)\n",
    "\n",
    "# Solve alpha\n",
    "alpha = cho_solve(K,Y, l2reg=llambda)"
   ]
  },
  {
   "cell_type": "markdown",
   "id": "4fb83ab1-c123-415f-8bdc-fb11ddf72f15",
   "metadata": {},
   "source": [
    "Here starts the validation of the generated kernel. The molecules to test are the ones with available experimental data. It consider the experimental frequencies by read them from the dictionary define adobe.\n"
   ]
  },
  {
   "cell_type": "code",
   "execution_count": 22,
   "id": "564151b8-9f1b-41be-bca3-1e01d27c2588",
   "metadata": {},
   "outputs": [],
   "source": [
    "data_test = '/home/vazquez/Documents/Hydra/e_structures_final/val_exp'\n",
    "file_name_test = []\n",
    "frequencies_test = []\n",
    "test_freq_dict = {}\n",
    "for path, dirs, files in os.walk(data_test):\n",
    "    for file in files:\n",
    "        if file.endswith(\".xyz\"):            \n",
    "            file_path = path + \"/\" + file\n",
    "            frequencies_test.append(dct_f_exp[file])\n",
    "            test_freq_dict[file] = dct_f_exp[file]\n",
    "            file_name_test.append(file)\n",
    "\n",
    "dct1 = {'file':file_name_test,'exp_freq':frequencies_test}\n",
    "df1 = pd.DataFrame(dct1)"
   ]
  },
  {
   "cell_type": "markdown",
   "id": "2bd52182-1979-486a-a990-d9485b9b1452",
   "metadata": {},
   "source": [
    "Experimental frequencies are normalized"
   ]
  },
  {
   "cell_type": "code",
   "execution_count": 23,
   "id": "7b452fb3-8a1b-41e9-a18f-d9e9be966abd",
   "metadata": {},
   "outputs": [
    {
     "name": "stdout",
     "output_type": "stream",
     "text": [
      "{'288-32-4.out.xyz': -1.6791937587614252, '67-64-1.out.xyz': -0.32636897828898037, '98-86-2.out.xyz': -0.3601895978007915, '62-53-3.out.xyz': -0.5631133148716582, '98-85-1.out.xyz': 1.0602764216952756, '2406-25-9.out.xyz': -1.2395257051078805, '327-54-8.out.xyz': 1.5168547851047256, '1191-95-3.out.xyz': -0.15726588072992478, '132-64-9.out.xyz': 1.111007350962992, '611-20-1.out.xyz': 0.6375186777976365}\n"
     ]
    }
   ],
   "source": [
    "new_freq_test = normalize_freq(df1['exp_freq'])\n",
    "for i in range(len(df1['file'])):\n",
    "    test_freq_dict[df1['file'][i]]=new_freq_test[0][i]\n",
    "\n",
    "print(test_freq_dict)"
   ]
  },
  {
   "cell_type": "markdown",
   "id": "84720194-e5d4-4ac7-8b56-5f57dc3e5629",
   "metadata": {},
   "source": [
    "The descriptor for the test molecules is generated."
   ]
  },
  {
   "cell_type": "code",
   "execution_count": 24,
   "id": "25d79675-7582-4326-88a7-a4ab5f98f274",
   "metadata": {},
   "outputs": [],
   "source": [
    "mols_test = []\n",
    "Qall_test = []\n",
    "for xyz_file in df1['file']:\n",
    "    mol = qml.Compound(xyz=data_test+'/'+xyz_file)\n",
    "    mol.properties = test_freq_dict[xyz_file]\n",
    "    mol.representation = generate_fchl_acsf(mol.nuclear_charges, mol.coordinates, elements = [1,6,7,8,9,16],\n",
    "        nRs2=22, nRs3=17, nFourier=1, eta2=0.41, eta3=0.97, zeta=np.pi, rcut=8.0, acut=8.0,\n",
    "        two_body_decay=2.4, three_body_decay=2.4, three_body_weight=45.8, gradients=False,pad=33)\n",
    "    Qall_test.append(mol.nuclear_charges)\n",
    "    mols_test.append(mol)"
   ]
  },
  {
   "cell_type": "markdown",
   "id": "d6925e2a-9adb-490a-839c-f43f3abe3fce",
   "metadata": {},
   "source": [
    "An array of the test molecules, charges and the properties is also generated"
   ]
  },
  {
   "cell_type": "code",
   "execution_count": 25,
   "id": "c4b4bbc4-4796-4401-a31f-3b43bb670925",
   "metadata": {},
   "outputs": [
    {
     "name": "stderr",
     "output_type": "stream",
     "text": [
      "/opt/intel/oneapi/intelpython/latest/lib/python3.7/site-packages/ipykernel_launcher.py:2: VisibleDeprecationWarning: Creating an ndarray from ragged nested sequences (which is a list-or-tuple of lists-or-tuples-or ndarrays with different lengths or shapes) is deprecated. If you meant to do this, you must specify 'dtype=object' when creating the ndarray.\n",
      "  \n"
     ]
    }
   ],
   "source": [
    "Xs = np.array([mol.representation for mol in mols_test])\n",
    "Qs = np.array([mol.nuclear_charges for mol in mols_test])\n",
    "Ys = np.array([mol.properties for mol in mols_test])"
   ]
  },
  {
   "cell_type": "code",
   "execution_count": 26,
   "id": "7c1d5385-cbe1-4cd5-a957-98e7d603d157",
   "metadata": {},
   "outputs": [],
   "source": [
    "# Calculate test prediction kernel\n",
    "Ks = get_local_kernel(X, Xs, Q, Qs, sigma)\n",
    "Yss = np.dot(Ks, alpha)"
   ]
  },
  {
   "cell_type": "code",
   "execution_count": 27,
   "id": "d9473bcd-f7c3-446d-b25d-7e94c5099722",
   "metadata": {},
   "outputs": [
    {
     "name": "stdout",
     "output_type": "stream",
     "text": [
      "Frequency 3512.7005003433005\n",
      "Frequency 3548.197100150081\n",
      "Frequency 3538.03415099271\n",
      "Frequency 3530.417817188364\n",
      "Frequency 3662.025098634388\n",
      "Frequency 3439.624604236679\n",
      "Frequency 3672.7702826029526\n",
      "Frequency 3555.0695296033123\n",
      "Frequency 3652.4738747436904\n",
      "Frequency 3607.7969917142786\n"
     ]
    }
   ],
   "source": [
    "rescaled_Yss = []\n",
    "for i in Yss:\n",
    "    print('Frequency', (new_freq_test[2]*i)+new_freq_test[1])\n",
    "    rescaled_Yss.append(new_freq_test[2]*i+new_freq_test[1])"
   ]
  },
  {
   "cell_type": "markdown",
   "id": "3a022b79-da5f-4139-aa92-1144bf415acd",
   "metadata": {},
   "source": [
    "MAE with respect to the experimental values using the normalization of the experimental values."
   ]
  },
  {
   "cell_type": "code",
   "execution_count": 29,
   "id": "bd95c1f0-155f-439d-84fe-9f36b0b943ed",
   "metadata": {},
   "outputs": [
    {
     "name": "stdout",
     "output_type": "stream",
     "text": [
      "23.48607417363987\n"
     ]
    }
   ],
   "source": [
    "print(np.mean(np.abs(df1['exp_freq']-rescaled_Yss)))\n",
    "Error = df1['exp_freq']-rescaled_Yss"
   ]
  },
  {
   "cell_type": "code",
   "execution_count": 30,
   "id": "d537cce7-8095-41cd-ac76-fd72e6172954",
   "metadata": {},
   "outputs": [],
   "source": [
    "dc_plot = {'files':df1['file'],'Frequencies_exp':df1['exp_freq'],'Frequencies_predict':rescaled_Yss,'Error':Error}\n",
    "df_plot = pd.DataFrame(dc_plot)"
   ]
  },
  {
   "cell_type": "code",
   "execution_count": 31,
   "id": "e13b9312-70d6-4330-8288-920443ba6a3e",
   "metadata": {},
   "outputs": [
    {
     "data": {
      "text/html": [
       "<div>\n",
       "<style scoped>\n",
       "    .dataframe tbody tr th:only-of-type {\n",
       "        vertical-align: middle;\n",
       "    }\n",
       "\n",
       "    .dataframe tbody tr th {\n",
       "        vertical-align: top;\n",
       "    }\n",
       "\n",
       "    .dataframe thead th {\n",
       "        text-align: right;\n",
       "    }\n",
       "</style>\n",
       "<table border=\"1\" class=\"dataframe\">\n",
       "  <thead>\n",
       "    <tr style=\"text-align: right;\">\n",
       "      <th></th>\n",
       "      <th>files</th>\n",
       "      <th>Frequencies_exp</th>\n",
       "      <th>Frequencies_predict</th>\n",
       "      <th>Error</th>\n",
       "    </tr>\n",
       "  </thead>\n",
       "  <tbody>\n",
       "    <tr>\n",
       "      <th>0</th>\n",
       "      <td>288-32-4.out.xyz</td>\n",
       "      <td>3458</td>\n",
       "      <td>3512.700500</td>\n",
       "      <td>-54.700500</td>\n",
       "    </tr>\n",
       "    <tr>\n",
       "      <th>1</th>\n",
       "      <td>67-64-1.out.xyz</td>\n",
       "      <td>3538</td>\n",
       "      <td>3548.197100</td>\n",
       "      <td>-10.197100</td>\n",
       "    </tr>\n",
       "    <tr>\n",
       "      <th>2</th>\n",
       "      <td>98-86-2.out.xyz</td>\n",
       "      <td>3536</td>\n",
       "      <td>3538.034151</td>\n",
       "      <td>-2.034151</td>\n",
       "    </tr>\n",
       "    <tr>\n",
       "      <th>3</th>\n",
       "      <td>62-53-3.out.xyz</td>\n",
       "      <td>3524</td>\n",
       "      <td>3530.417817</td>\n",
       "      <td>-6.417817</td>\n",
       "    </tr>\n",
       "    <tr>\n",
       "      <th>4</th>\n",
       "      <td>98-85-1.out.xyz</td>\n",
       "      <td>3620</td>\n",
       "      <td>3662.025099</td>\n",
       "      <td>-42.025099</td>\n",
       "    </tr>\n",
       "    <tr>\n",
       "      <th>5</th>\n",
       "      <td>2406-25-9.out.xyz</td>\n",
       "      <td>3484</td>\n",
       "      <td>3439.624604</td>\n",
       "      <td>44.375396</td>\n",
       "    </tr>\n",
       "    <tr>\n",
       "      <th>6</th>\n",
       "      <td>327-54-8.out.xyz</td>\n",
       "      <td>3647</td>\n",
       "      <td>3672.770283</td>\n",
       "      <td>-25.770283</td>\n",
       "    </tr>\n",
       "    <tr>\n",
       "      <th>7</th>\n",
       "      <td>1191-95-3.out.xyz</td>\n",
       "      <td>3548</td>\n",
       "      <td>3555.069530</td>\n",
       "      <td>-7.069530</td>\n",
       "    </tr>\n",
       "    <tr>\n",
       "      <th>8</th>\n",
       "      <td>132-64-9.out.xyz</td>\n",
       "      <td>3623</td>\n",
       "      <td>3652.473875</td>\n",
       "      <td>-29.473875</td>\n",
       "    </tr>\n",
       "    <tr>\n",
       "      <th>9</th>\n",
       "      <td>611-20-1.out.xyz</td>\n",
       "      <td>3595</td>\n",
       "      <td>3607.796992</td>\n",
       "      <td>-12.796992</td>\n",
       "    </tr>\n",
       "  </tbody>\n",
       "</table>\n",
       "</div>"
      ],
      "text/plain": [
       "               files  Frequencies_exp  Frequencies_predict      Error\n",
       "0   288-32-4.out.xyz             3458          3512.700500 -54.700500\n",
       "1    67-64-1.out.xyz             3538          3548.197100 -10.197100\n",
       "2    98-86-2.out.xyz             3536          3538.034151  -2.034151\n",
       "3    62-53-3.out.xyz             3524          3530.417817  -6.417817\n",
       "4    98-85-1.out.xyz             3620          3662.025099 -42.025099\n",
       "5  2406-25-9.out.xyz             3484          3439.624604  44.375396\n",
       "6   327-54-8.out.xyz             3647          3672.770283 -25.770283\n",
       "7  1191-95-3.out.xyz             3548          3555.069530  -7.069530\n",
       "8   132-64-9.out.xyz             3623          3652.473875 -29.473875\n",
       "9   611-20-1.out.xyz             3595          3607.796992 -12.796992"
      ]
     },
     "execution_count": 31,
     "metadata": {},
     "output_type": "execute_result"
    }
   ],
   "source": [
    "df_plot"
   ]
  },
  {
   "cell_type": "markdown",
   "id": "0a0aba60-74ee-42f1-a8c9-7a056a62c7b0",
   "metadata": {},
   "source": [
    "# $\\Delta$-Learning\n",
    "\n",
    "Here I start with the $\\Delta$-learning approach"
   ]
  },
  {
   "cell_type": "code",
   "execution_count": 32,
   "id": "d5bc5f98-fca7-44fd-ac85-0a7b1ff6ef9d",
   "metadata": {},
   "outputs": [],
   "source": [
    "#Delta Learning\n",
    "dct_error = {}\n",
    "for i in range(10):\n",
    "    dct_error[df1['file'][i]] = df_plot['Error'][i]"
   ]
  },
  {
   "cell_type": "markdown",
   "id": "534946cc-bfd1-4a20-8d01-f401a5f93893",
   "metadata": {},
   "source": [
    "Generate the representation for the molecules in the validation set. "
   ]
  },
  {
   "cell_type": "code",
   "execution_count": 33,
   "id": "fe79f194-4544-48c7-b1c4-65098863deb5",
   "metadata": {},
   "outputs": [
    {
     "name": "stderr",
     "output_type": "stream",
     "text": [
      "/opt/intel/oneapi/intelpython/latest/lib/python3.7/site-packages/ipykernel_launcher.py:13: VisibleDeprecationWarning: Creating an ndarray from ragged nested sequences (which is a list-or-tuple of lists-or-tuples-or ndarrays with different lengths or shapes) is deprecated. If you meant to do this, you must specify 'dtype=object' when creating the ndarray.\n",
      "  del sys.path[0]\n"
     ]
    }
   ],
   "source": [
    "Qall_delta = []    \n",
    "mols_delta = []\n",
    "for xyz_file in df1['file']:\n",
    "    mol = qml.Compound(xyz=data_test+'/'+xyz_file)\n",
    "    mol.properties = dct_error[xyz_file]\n",
    "    mol.representation = generate_fchl_acsf(mol.nuclear_charges, mol.coordinates, elements = [1,6,7,8,9,16],\n",
    "        nRs2=22, nRs3=17, nFourier=1, eta2=0.41, eta3=0.97, zeta=np.pi, rcut=8.0, acut=8.0,\n",
    "        two_body_decay=2.4, three_body_decay=2.4, three_body_weight=45.8, gradients=False,pad=33)\n",
    "    Qall_test.append(mol.nuclear_charges)\n",
    "    mols_delta.append(mol)\n",
    "    \n",
    "Xd = np.array([mol.representation for mol in mols_delta])\n",
    "Qd = np.array([mol.nuclear_charges for mol in mols_delta])\n",
    "Yd = np.array([mol.properties for mol in mols_delta])"
   ]
  },
  {
   "cell_type": "markdown",
   "id": "0634a507-cacc-40a1-9d58-935c3ff33e76",
   "metadata": {},
   "source": [
    "Solve the kernel equation for the $\\Delta$"
   ]
  },
  {
   "cell_type": "code",
   "execution_count": 34,
   "id": "efe3b7fc-921d-4c66-8834-4ef167dce97d",
   "metadata": {},
   "outputs": [],
   "source": [
    "#Solving delta equations\n",
    "sigma = 1.2\n",
    "llambda = 1e-10\n",
    "\n",
    "K_delta = get_local_symmetric_kernel(Xd, Qd, sigma)\n",
    "\n",
    "# Solve alpha\n",
    "alpha_d = cho_solve(K_delta,Yd, l2reg=llambda)"
   ]
  },
  {
   "cell_type": "markdown",
   "id": "605bd0fb-fdb1-4a5f-9d08-9ba19a0ba353",
   "metadata": {},
   "source": [
    "Testing with the molecules for the challenge, the kernel approach. First read the files and create the respective arrays."
   ]
  },
  {
   "cell_type": "code",
   "execution_count": 35,
   "id": "2dabef89-0e9d-44b3-9b93-7466448c766e",
   "metadata": {},
   "outputs": [],
   "source": [
    "# Here starts the part of the testing molecules\n",
    "\n",
    "data_predict = '/home/vazquez/Documents/Hydra/e_structures_final/test'\n",
    "file_name_predict = []\n",
    "frequencies_predict = []\n",
    "freq_dict_predict = {}\n",
    "for path, dirs, files in os.walk(data_predict):\n",
    "    for file in files:\n",
    "        if file.endswith(\".xyz\"):            \n",
    "            file_path = path + \"/\" + file\n",
    "            freq_dict_predict[file] = get_frequencies(file_path)\n",
    "            frequencies_predict.append(get_frequencies(file_path))\n",
    "            file_name_predict.append(file)\n",
    "\n",
    "dct2 = {'file':file_name_predict,'frequencies_calc':frequencies_predict}\n",
    "df2 = pd.DataFrame(dct2)"
   ]
  },
  {
   "cell_type": "markdown",
   "id": "f5cbda5d-26cc-49ab-829e-fd96adc49889",
   "metadata": {},
   "source": [
    "Generate the FCHL representation for the molecules of the test set"
   ]
  },
  {
   "cell_type": "code",
   "execution_count": 36,
   "id": "40ce9ed8-dabf-4ec5-b514-93098c635e96",
   "metadata": {},
   "outputs": [],
   "source": [
    "mols_predict = []\n",
    "Qall_predict = []\n",
    "for xyz_file in df2['file']:\n",
    "    mol = qml.Compound(xyz=data_predict+'/'+xyz_file)\n",
    "    mol.properties = freq_dict_predict[xyz_file]\n",
    "    mol.representation = generate_fchl_acsf(mol.nuclear_charges, mol.coordinates, elements = [1,6,7,8,9,16],\n",
    "        nRs2=22, nRs3=17, nFourier=1, eta2=0.41, eta3=0.97, zeta=np.pi, rcut=8.0, acut=8.0,\n",
    "        two_body_decay=2.4, three_body_decay=2.4, three_body_weight=45.8, gradients=False,pad=33)\n",
    "    Qall_predict.append(mol.nuclear_charges)\n",
    "    mols_predict.append(mol)"
   ]
  },
  {
   "cell_type": "code",
   "execution_count": 37,
   "id": "693bcc13-3010-4a2d-90ee-c6d0f30a4ea2",
   "metadata": {},
   "outputs": [
    {
     "name": "stderr",
     "output_type": "stream",
     "text": [
      "/opt/intel/oneapi/intelpython/latest/lib/python3.7/site-packages/ipykernel_launcher.py:2: VisibleDeprecationWarning: Creating an ndarray from ragged nested sequences (which is a list-or-tuple of lists-or-tuples-or ndarrays with different lengths or shapes) is deprecated. If you meant to do this, you must specify 'dtype=object' when creating the ndarray.\n",
      "  \n"
     ]
    }
   ],
   "source": [
    "Xp = np.array([mol.representation for mol in mols_predict])\n",
    "Qp = np.array([mol.nuclear_charges for mol in mols_predict])\n",
    "Yp = np.array([mol.properties for mol in mols_predict])"
   ]
  },
  {
   "cell_type": "markdown",
   "id": "99158d74-6e30-4171-a37a-5f8ada95d170",
   "metadata": {},
   "source": [
    "Do the evaluation of the molecules"
   ]
  },
  {
   "cell_type": "code",
   "execution_count": 38,
   "id": "9f3edb6b-9148-425e-85e6-1062f35999c3",
   "metadata": {},
   "outputs": [],
   "source": [
    "# Calculate test prediction kernel\n",
    "Kp = get_local_kernel(X, Xp, Q, Qp, sigma)\n",
    "Ypred = np.dot(Kp, alpha)"
   ]
  },
  {
   "cell_type": "code",
   "execution_count": 39,
   "id": "2355aa83-631b-48cf-871c-586019e856d0",
   "metadata": {},
   "outputs": [
    {
     "name": "stdout",
     "output_type": "stream",
     "text": [
      "Frequency 3620.6513021574233\n",
      "Frequency 3602.972481428225\n",
      "Frequency 3616.700635023064\n",
      "Frequency 3602.307194865952\n",
      "Frequency 3510.3301629626712\n",
      "Frequency 3578.8541100829466\n",
      "Frequency 3440.6887484570893\n",
      "Frequency 3514.483928995163\n",
      "Frequency 3548.8399599449663\n",
      "Frequency 3543.9458554583553\n"
     ]
    }
   ],
   "source": [
    "rescaled_Ypred = []\n",
    "for i in Ypred:\n",
    "    print('Frequency', (new_freq_test[2]*i)+new_freq_test[1])\n",
    "    rescaled_Ypred.append(new_freq_test[2]*i+new_freq_test[1])"
   ]
  },
  {
   "cell_type": "code",
   "execution_count": 40,
   "id": "e6b4fb36-783f-4095-b7f6-d3bec4427509",
   "metadata": {},
   "outputs": [],
   "source": [
    "#Calculate the delta difference\n",
    "Kpd = get_local_kernel(Xd, Xp, Qd, Qp, sigma)\n",
    "Ypred_delta = np.dot(Kpd, alpha_d)"
   ]
  },
  {
   "cell_type": "code",
   "execution_count": 41,
   "id": "66cdb268-d3f9-4c18-9256-7fb867a10c05",
   "metadata": {},
   "outputs": [
    {
     "name": "stdout",
     "output_type": "stream",
     "text": [
      "New freq: 3585.438278202633\n",
      "New freq: 3589.4484237621514\n",
      "New freq: 3585.4644562400827\n",
      "New freq: 3570.308625874118\n",
      "New freq: 3479.684426432184\n",
      "New freq: 3523.9854466137253\n",
      "New freq: 3405.4904812257914\n",
      "New freq: 3541.6057506171373\n",
      "New freq: 3508.954866810482\n",
      "New freq: 3511.56269947435\n"
     ]
    }
   ],
   "source": [
    "rescale_and_delta = []\n",
    "for i in range(len(rescaled_Ypred)):\n",
    "    print('New freq:', rescaled_Ypred[i] + Ypred_delta[i])\n",
    "    rescale_and_delta.append(rescaled_Ypred[i]+ Ypred_delta[i])"
   ]
  },
  {
   "cell_type": "code",
   "execution_count": 42,
   "id": "315d3077-28c4-445b-aa93-518d99d464ca",
   "metadata": {},
   "outputs": [],
   "source": [
    "results_l = [3597,3611,3507,3591,3524,3649,3454,3503,3492,3491]"
   ]
  },
  {
   "cell_type": "code",
   "execution_count": 43,
   "id": "7304ffe1-0fbf-4459-bbe3-9fda05989fd5",
   "metadata": {},
   "outputs": [],
   "source": [
    "pred_dict = {'File':df2['file'].to_numpy(),'Experimental':results_l,'Freq_harmonic':df2['frequencies_calc'].to_numpy(), 'Predicted_by_kernel':rescaled_Ypred, \n",
    "            'Predicted+delta':rescale_and_delta}\n",
    "df_pred = pd.DataFrame(pred_dict)"
   ]
  },
  {
   "cell_type": "code",
   "execution_count": 44,
   "id": "0d010fd0-c10a-4c63-b042-fa4afe85e9d2",
   "metadata": {},
   "outputs": [
    {
     "data": {
      "text/html": [
       "<div>\n",
       "<style scoped>\n",
       "    .dataframe tbody tr th:only-of-type {\n",
       "        vertical-align: middle;\n",
       "    }\n",
       "\n",
       "    .dataframe tbody tr th {\n",
       "        vertical-align: top;\n",
       "    }\n",
       "\n",
       "    .dataframe thead th {\n",
       "        text-align: right;\n",
       "    }\n",
       "</style>\n",
       "<table border=\"1\" class=\"dataframe\">\n",
       "  <thead>\n",
       "    <tr style=\"text-align: right;\">\n",
       "      <th></th>\n",
       "      <th>File</th>\n",
       "      <th>Experimental</th>\n",
       "      <th>Freq_harmonic</th>\n",
       "      <th>Predicted_by_kernel</th>\n",
       "      <th>Predicted+delta</th>\n",
       "    </tr>\n",
       "  </thead>\n",
       "  <tbody>\n",
       "    <tr>\n",
       "      <th>0</th>\n",
       "      <td>125132-75-4.out.xyz</td>\n",
       "      <td>3597</td>\n",
       "      <td>3739.5545</td>\n",
       "      <td>3620.651302</td>\n",
       "      <td>3585.438278</td>\n",
       "    </tr>\n",
       "    <tr>\n",
       "      <th>1</th>\n",
       "      <td>434-45-7.out.xyz</td>\n",
       "      <td>3611</td>\n",
       "      <td>3710.7747</td>\n",
       "      <td>3602.972481</td>\n",
       "      <td>3589.448424</td>\n",
       "    </tr>\n",
       "    <tr>\n",
       "      <th>2</th>\n",
       "      <td>110-01-0.out.xyz</td>\n",
       "      <td>3507</td>\n",
       "      <td>3595.0460</td>\n",
       "      <td>3616.700635</td>\n",
       "      <td>3585.464456</td>\n",
       "    </tr>\n",
       "    <tr>\n",
       "      <th>3</th>\n",
       "      <td>50-0-0.out.xyz</td>\n",
       "      <td>3591</td>\n",
       "      <td>3692.3172</td>\n",
       "      <td>3602.307195</td>\n",
       "      <td>3570.308626</td>\n",
       "    </tr>\n",
       "    <tr>\n",
       "      <th>4</th>\n",
       "      <td>547-64-8.out.xyz</td>\n",
       "      <td>3524</td>\n",
       "      <td>3610.2268</td>\n",
       "      <td>3510.330163</td>\n",
       "      <td>3479.684426</td>\n",
       "    </tr>\n",
       "    <tr>\n",
       "      <th>5</th>\n",
       "      <td>75-89-8.out.xyz</td>\n",
       "      <td>3649</td>\n",
       "      <td>3607.1661</td>\n",
       "      <td>3578.854110</td>\n",
       "      <td>3523.985447</td>\n",
       "    </tr>\n",
       "    <tr>\n",
       "      <th>6</th>\n",
       "      <td>110-86-1.out.xyz</td>\n",
       "      <td>3454</td>\n",
       "      <td>3498.3457</td>\n",
       "      <td>3440.688748</td>\n",
       "      <td>3405.490481</td>\n",
       "    </tr>\n",
       "    <tr>\n",
       "      <th>7</th>\n",
       "      <td>502-49-8.out.xyz</td>\n",
       "      <td>3503</td>\n",
       "      <td>3578.1188</td>\n",
       "      <td>3514.483929</td>\n",
       "      <td>3541.605751</td>\n",
       "    </tr>\n",
       "    <tr>\n",
       "      <th>8</th>\n",
       "      <td>80-73-9.out.xyz</td>\n",
       "      <td>3492</td>\n",
       "      <td>3574.8747</td>\n",
       "      <td>3548.839960</td>\n",
       "      <td>3508.954867</td>\n",
       "    </tr>\n",
       "    <tr>\n",
       "      <th>9</th>\n",
       "      <td>109-99-9.out.xyz</td>\n",
       "      <td>3491</td>\n",
       "      <td>3575.1894</td>\n",
       "      <td>3543.945855</td>\n",
       "      <td>3511.562699</td>\n",
       "    </tr>\n",
       "  </tbody>\n",
       "</table>\n",
       "</div>"
      ],
      "text/plain": [
       "                  File  Experimental  Freq_harmonic  Predicted_by_kernel  \\\n",
       "0  125132-75-4.out.xyz          3597      3739.5545          3620.651302   \n",
       "1     434-45-7.out.xyz          3611      3710.7747          3602.972481   \n",
       "2     110-01-0.out.xyz          3507      3595.0460          3616.700635   \n",
       "3       50-0-0.out.xyz          3591      3692.3172          3602.307195   \n",
       "4     547-64-8.out.xyz          3524      3610.2268          3510.330163   \n",
       "5      75-89-8.out.xyz          3649      3607.1661          3578.854110   \n",
       "6     110-86-1.out.xyz          3454      3498.3457          3440.688748   \n",
       "7     502-49-8.out.xyz          3503      3578.1188          3514.483929   \n",
       "8      80-73-9.out.xyz          3492      3574.8747          3548.839960   \n",
       "9     109-99-9.out.xyz          3491      3575.1894          3543.945855   \n",
       "\n",
       "   Predicted+delta  \n",
       "0      3585.438278  \n",
       "1      3589.448424  \n",
       "2      3585.464456  \n",
       "3      3570.308626  \n",
       "4      3479.684426  \n",
       "5      3523.985447  \n",
       "6      3405.490481  \n",
       "7      3541.605751  \n",
       "8      3508.954867  \n",
       "9      3511.562699  "
      ]
     },
     "execution_count": 44,
     "metadata": {},
     "output_type": "execute_result"
    }
   ],
   "source": [
    "df_pred"
   ]
  },
  {
   "cell_type": "code",
   "execution_count": 48,
   "id": "2639a80c-b31f-441c-b432-09a88077aadf",
   "metadata": {},
   "outputs": [],
   "source": [
    "old_results = pd.read_csv('final_kernel.csv')\n",
    "Error_old = old_results['Experiment']-old_results['Predicted+delta']\n",
    "Error_new = old_results['Experiment']-df_pred['Predicted+delta']"
   ]
  },
  {
   "cell_type": "code",
   "execution_count": 50,
   "id": "3b2b4fc6-04be-4f94-ba96-870b6906c665",
   "metadata": {},
   "outputs": [],
   "source": [
    "new_results_dct = {'Molecule':df_pred['File'],'Exp Freq.':old_results['Experiment'],'Initial Subm':old_results['Predicted+delta'],'Error Initial':Error_old,\n",
    "                   'Model1':df_pred['Predicted_by_kernel'],'Corrected':df_pred['Predicted+delta'],'Error Correc':Error_new}\n",
    "new_results_df = pd.DataFrame(new_results_dct)"
   ]
  },
  {
   "cell_type": "code",
   "execution_count": 51,
   "id": "b922178e-77c9-4786-8ac3-bb31b480f533",
   "metadata": {},
   "outputs": [],
   "source": [
    "new_results_df.to_csv('corrected_results_with_kernel.csv',index=False,float_format='%.1f')"
   ]
  }
 ],
 "metadata": {
  "kernelspec": {
   "display_name": "Python 3 (ipykernel)",
   "language": "python",
   "name": "python3"
  },
  "language_info": {
   "codemirror_mode": {
    "name": "ipython",
    "version": 3
   },
   "file_extension": ".py",
   "mimetype": "text/x-python",
   "name": "python",
   "nbconvert_exporter": "python",
   "pygments_lexer": "ipython3",
   "version": "3.7.11"
  }
 },
 "nbformat": 4,
 "nbformat_minor": 5
}
